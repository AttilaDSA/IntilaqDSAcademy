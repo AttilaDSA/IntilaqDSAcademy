{
 "cells": [
  {
   "cell_type": "code",
   "execution_count": 38,
   "metadata": {},
   "outputs": [],
   "source": [
    "from PIL import Image\n",
    "import numpy as np\n",
    "import os"
   ]
  },
  {
   "cell_type": "markdown",
   "metadata": {},
   "source": [
    "# Lecture de l'image "
   ]
  },
  {
   "cell_type": "code",
   "execution_count": 170,
   "metadata": {},
   "outputs": [],
   "source": [
    "def ChargerImage(path):\n",
    "    \n",
    "    image_ = Image.open('images.jpg').convert('L')\n",
    "    \n",
    "    image_width = image_.width\n",
    "    image_array = np.array(image_.getdata()).reshape(image_.size[0], image_.size[1], 1)\n",
    "    \n",
    "    return image_width,image_array"
   ]
  },
  {
   "cell_type": "markdown",
   "metadata": {},
   "source": [
    "# D’une image, un tableau"
   ]
  },
  {
   "cell_type": "code",
   "execution_count": 171,
   "metadata": {},
   "outputs": [],
   "source": [
    "def Transform_img_tab(image_array):\n",
    "    \n",
    "    array_pixels = []\n",
    "    for image_line in image_array:\n",
    "        [array_pixels.extend([pixel[0] for pixel in image_line])]\n",
    "    \n",
    "    return array_pixels\n",
    "    "
   ]
  },
  {
   "cell_type": "markdown",
   "metadata": {},
   "source": [
    "# D’un tableau, une image"
   ]
  },
  {
   "cell_type": "code",
   "execution_count": 172,
   "metadata": {},
   "outputs": [],
   "source": [
    "def Transform_tab_img(Tab,image_width):\n",
    "    return [Tab[x*image_width:(x+1)*image_width] for x in range(len(Tab)//image_width)]"
   ]
  },
  {
   "cell_type": "markdown",
   "metadata": {},
   "source": [
    "# Sauvegarde"
   ]
  },
  {
   "cell_type": "code",
   "execution_count": 173,
   "metadata": {},
   "outputs": [],
   "source": [
    "def save_img(path,image_array):\n",
    "    np_image_array = np.array(image_array,dtype=np.uint8)\n",
    "    Image.fromarray(np_image_array,\"L\").save(path)"
   ]
  },
  {
   "cell_type": "markdown",
   "metadata": {},
   "source": [
    "# Tri avec des screenshots (Tri à Bulles)"
   ]
  },
  {
   "cell_type": "code",
   "execution_count": 195,
   "metadata": {},
   "outputs": [],
   "source": [
    "def tri_bulle_image(TabImage,image_width,frame_rate=50000,base_filename='./IMG'):\n",
    "    \n",
    "    filename_index = 0\n",
    "    frame_index = frame_rate\n",
    "    \n",
    "    for i in range(len(TabImage)):\n",
    "        for j in range(i,len(TabImage)):\n",
    "            \n",
    "            if TabImage[i] < TabImage[j]:\n",
    "                TabImage[i],TabImage[j] = TabImage[j],TabImage[i]\n",
    "                \n",
    "            frame_index -= 1\n",
    "            if frame_index == 0:\n",
    "                save_img(base_filename+str(filename_index)+'.png',Transform_tab_img(TabImage,image_width))\n",
    "                filename_index += 1\n",
    "                frame_index = frame_rate\n",
    "    \n",
    "    return TabImage"
   ]
  },
  {
   "cell_type": "markdown",
   "metadata": {},
   "source": [
    "# Tri avec des screenshots (Tri par séléction)"
   ]
  },
  {
   "cell_type": "code",
   "execution_count": 190,
   "metadata": {},
   "outputs": [],
   "source": [
    "def tri_select_image(TabImage,image_width,frame_rate=50000,base_filename='./IMG'):\n",
    "    \n",
    "    filename_index = 0\n",
    "    frame_index = frame_rate\n",
    "    \n",
    "    for i in range(len(TabImage)-1):\n",
    "        \n",
    "        j = (TabImage[i:]).index(min(TabImage[i:]))\n",
    "        j += i\n",
    "        TabImage[i],TabImage[j] = TabImage[j],TabImage[i]\n",
    "\n",
    "        frame_index -= 1\n",
    "        if frame_index == 0:\n",
    "            save_img(base_filename+str(filename_index)+'.png',Transform_tab_img(TabImage,image_width))\n",
    "            filename_index += 1\n",
    "            frame_index = frame_rate\n",
    "    \n",
    "    return TabImage"
   ]
  },
  {
   "cell_type": "markdown",
   "metadata": {},
   "source": [
    "# Lancement"
   ]
  },
  {
   "cell_type": "code",
   "execution_count": 199,
   "metadata": {},
   "outputs": [],
   "source": [
    "img = ChargerImage('image.jpg')\n",
    "dim = img[0]\n",
    "img = img[1]\n",
    "\n",
    "\n",
    "#tabimg_ = tri_bulle_image(Transform_img_tab(img),dim,frame_rate=5000,base_filename='Images_Tri_Bulle/IMG')\n",
    "#tabimg_ = tri_select_image(Transform_img_tab(img),dim,frame_rate=50,base_filename='Images_Tri_Select/IMG')"
   ]
  },
  {
   "cell_type": "code",
   "execution_count": null,
   "metadata": {},
   "outputs": [],
   "source": []
  }
 ],
 "metadata": {
  "kernelspec": {
   "display_name": "Python 2",
   "language": "python",
   "name": "python2"
  },
  "language_info": {
   "codemirror_mode": {
    "name": "ipython",
    "version": 2
   },
   "file_extension": ".py",
   "mimetype": "text/x-python",
   "name": "python",
   "nbconvert_exporter": "python",
   "pygments_lexer": "ipython2",
   "version": "2.7.12"
  }
 },
 "nbformat": 4,
 "nbformat_minor": 2
}
