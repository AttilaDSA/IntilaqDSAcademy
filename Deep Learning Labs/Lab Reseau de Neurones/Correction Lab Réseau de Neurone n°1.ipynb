{
 "cells": [
  {
   "cell_type": "markdown",
   "metadata": {},
   "source": [
    "# Définition de la classe Neurone"
   ]
  },
  {
   "cell_type": "code",
   "execution_count": 214,
   "metadata": {},
   "outputs": [],
   "source": [
    "class neuronne_a_seuil(object):\n",
    "    \n",
    "    def __init__(self,nb_inputs):\n",
    "        assert(int(nb_inputs)>0)\n",
    "        self.weights = [0]*(int(nb_inputs)+1)\n",
    "        self.fct_passage = None\n",
    "        \n",
    "        \n",
    "    def Set_Weights(self,w,b):\n",
    "        assert(type(b) == type(0) or type(b) == type(float(0)))\n",
    "        if len(w) == (len(self.weights)-1):\n",
    "            self.weights = [-b]+w\n",
    "        else:\n",
    "            raise Exception('Need wigths to be of length: '+str(len(self.weights)-1))\n",
    "            \n",
    "    def Get_Weights(self):\n",
    "        return self.weights[1:]\n",
    "    \n",
    "    def Get_Biais(self):\n",
    "        return -self.weights[0]\n",
    "    \n",
    "    def Set_Function(self,out_):\n",
    "        self.fct_passage = out_\n",
    "        \n",
    "    def get_output(self,entries):\n",
    "        return self.fct_passage(self.weights,[1]+entries)\n",
    "        "
   ]
  },
  {
   "cell_type": "markdown",
   "metadata": {},
   "source": [
    "# Réseaux de neurones linéaires à seuil "
   ]
  },
  {
   "cell_type": "code",
   "execution_count": 199,
   "metadata": {},
   "outputs": [],
   "source": [
    "def linear_output(W,X):\n",
    "    assert(len(W) == len(X))\n",
    "    return int(sum([x*y for x,y in zip(W,X)]) >= 0)"
   ]
  },
  {
   "cell_type": "markdown",
   "metadata": {},
   "source": [
    " "
   ]
  },
  {
   "cell_type": "markdown",
   "metadata": {},
   "source": [
    "## Test"
   ]
  },
  {
   "cell_type": "code",
   "execution_count": 157,
   "metadata": {},
   "outputs": [],
   "source": [
    "N = neuronne_a_seuil(2)"
   ]
  },
  {
   "cell_type": "code",
   "execution_count": 158,
   "metadata": {},
   "outputs": [],
   "source": [
    "N.Set_Weights(b=0.5,w=[1,1])"
   ]
  },
  {
   "cell_type": "code",
   "execution_count": 159,
   "metadata": {},
   "outputs": [],
   "source": [
    "N.Set_Function(linear_output)"
   ]
  },
  {
   "cell_type": "code",
   "execution_count": 160,
   "metadata": {},
   "outputs": [
    {
     "name": "stdout",
     "output_type": "stream",
     "text": [
      "-0.5\n",
      "[0, 0]  =>  0\n",
      "0.5\n",
      "[1, 0]  =>  1\n",
      "0.5\n",
      "[0, 1]  =>  1\n",
      "1.5\n",
      "[1, 1]  =>  1\n"
     ]
    }
   ],
   "source": [
    "print([0,0],' => ',N.get_output([0,0]))\n",
    "print([1,0],' => ',N.get_output([1,0]))\n",
    "print([0,1],' => ',N.get_output([0,1]))\n",
    "print([1,1],' => ',N.get_output([1,1]))"
   ]
  },
  {
   "cell_type": "markdown",
   "metadata": {},
   "source": [
    "###### Ce neuronne rempli donc la fonction logique OR"
   ]
  },
  {
   "cell_type": "markdown",
   "metadata": {},
   "source": [
    " "
   ]
  },
  {
   "cell_type": "markdown",
   "metadata": {},
   "source": [
    "# L'afficheur 7 segments"
   ]
  },
  {
   "cell_type": "code",
   "execution_count": 215,
   "metadata": {},
   "outputs": [],
   "source": [
    "N2 = neuronne_a_seuil(7)"
   ]
  },
  {
   "cell_type": "code",
   "execution_count": 216,
   "metadata": {},
   "outputs": [],
   "source": [
    "N2.Set_Weights(w=[1,1,1,1,1,1,1],b=1)\n",
    "N2.Set_Function(linear_output)"
   ]
  },
  {
   "attachments": {
    "image.png": {
     "image/png": "[encoded data removed]"
    }
   },
   "cell_type": "markdown",
   "metadata": {},
   "source": [
    "![image.png](attachment:image.png)"
   ]
  },
  {
   "cell_type": "markdown",
   "metadata": {},
   "source": [
    "## Les échantillons"
   ]
  },
  {
   "cell_type": "code",
   "execution_count": 217,
   "metadata": {},
   "outputs": [],
   "source": [
    "S = [\n",
    "    [1,1,1,1,1,1,0], # L'afficheur affiche 0\n",
    "    [0,1,1,0,0,0,0], #  L'afficheur affiche 1\n",
    "    [1,1,0,1,1,0,1], #  L'afficheur affiche 2\n",
    "    [1,1,1,1,0,0,1], #  L'afficheur affiche 3\n",
    "    [0,1,1,0,0,1,1], #  L'afficheur affiche 4\n",
    "    [1,0,1,1,0,1,1], #  L'afficheur affiche 5\n",
    "    [1,0,1,1,1,1,1], #  L'afficheur affiche 6\n",
    "    [1,1,1,0,0,0,0], #  L'afficheur affiche 7\n",
    "    [1,1,1,1,1,1,1], #  L'afficheur affiche 8\n",
    "    [1,1,1,1,0,1,1]  #  L'afficheur affiche 9\n",
    "]"
   ]
  },
  {
   "cell_type": "markdown",
   "metadata": {},
   "source": [
    "## Les sorties désirée "
   ]
  },
  {
   "cell_type": "code",
   "execution_count": 275,
   "metadata": {},
   "outputs": [],
   "source": [
    "C = [0,1,0,1,0,1,0,1,0,1]"
   ]
  },
  {
   "cell_type": "code",
   "execution_count": 276,
   "metadata": {},
   "outputs": [
    {
     "name": "stdout",
     "output_type": "stream",
     "text": [
      "[1, 1, 1, 1, 1, 1, 0] 1\n",
      "[0, 1, 1, 0, 0, 0, 0] 1\n",
      "[1, 1, 0, 1, 1, 0, 1] 1\n",
      "[1, 1, 1, 1, 0, 0, 1] 1\n",
      "[0, 1, 1, 0, 0, 1, 1] 1\n",
      "[1, 0, 1, 1, 0, 1, 1] 1\n",
      "[1, 0, 1, 1, 1, 1, 1] 1\n",
      "[1, 1, 1, 0, 0, 0, 0] 1\n",
      "[1, 1, 1, 1, 1, 1, 1] 1\n",
      "[1, 1, 1, 1, 0, 1, 1] 1\n"
     ]
    }
   ],
   "source": [
    "N2.Set_Weights(w=[1,1,1,1,1,1,1],b=-1)\n",
    "for X in S:\n",
    "    print(X,N2.get_output(X))"
   ]
  },
  {
   "cell_type": "code",
   "execution_count": 280,
   "metadata": {},
   "outputs": [],
   "source": [
    "finished = False\n",
    "while not finished:\n",
    "    finished = True\n",
    "    for i,X in enumerate(S):\n",
    "        c = C[i]\n",
    "        o = N2.get_output(X)\n",
    "        \n",
    "        N2.Set_Weights(\n",
    "            w=[N2.Get_Weights()[j]+(c-o)*X[j] for j in range(7)],\n",
    "            b=N2.Get_Biais()+(c-o)\n",
    "        )\n",
    "    \n",
    "        finished = finished and (c == o)\n",
    "        "
   ]
  },
  {
   "cell_type": "code",
   "execution_count": 281,
   "metadata": {},
   "outputs": [
    {
     "name": "stdout",
     "output_type": "stream",
     "text": [
      "[1, -4, -1, 1, -6, -2, -1] -6\n"
     ]
    }
   ],
   "source": [
    "print(N2.Get_Weights(),N2.Get_Biais())"
   ]
  },
  {
   "cell_type": "code",
   "execution_count": 282,
   "metadata": {},
   "outputs": [
    {
     "name": "stdout",
     "output_type": "stream",
     "text": [
      "[1, 1, 1, 1, 1, 1, 0] 0\n",
      "[0, 1, 1, 0, 0, 0, 0] 1\n",
      "[1, 1, 0, 1, 1, 0, 1] 0\n",
      "[1, 1, 1, 1, 0, 0, 1] 1\n",
      "[0, 1, 1, 0, 0, 1, 1] 0\n",
      "[1, 0, 1, 1, 0, 1, 1] 1\n",
      "[1, 0, 1, 1, 1, 1, 1] 0\n",
      "[1, 1, 1, 0, 0, 0, 0] 1\n",
      "[1, 1, 1, 1, 1, 1, 1] 0\n",
      "[1, 1, 1, 1, 0, 1, 1] 1\n"
     ]
    }
   ],
   "source": [
    "for X in S:\n",
    "    print(X,N2.get_output(X))"
   ]
  },
  {
   "cell_type": "code",
   "execution_count": null,
   "metadata": {},
   "outputs": [],
   "source": []
  }
 ],
 "metadata": {
  "kernelspec": {
   "display_name": "Python 3",
   "language": "python",
   "name": "python3"
  },
  "language_info": {
   "codemirror_mode": {
    "name": "ipython",
    "version": 3
   },
   "file_extension": ".py",
   "mimetype": "text/x-python",
   "name": "python",
   "nbconvert_exporter": "python",
   "pygments_lexer": "ipython3",
   "version": "3.6.4"
  }
 },
 "nbformat": 4,
 "nbformat_minor": 2
}
