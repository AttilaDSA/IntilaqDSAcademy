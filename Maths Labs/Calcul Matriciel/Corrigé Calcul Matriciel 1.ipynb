{
 "cells": [
  {
   "cell_type": "markdown",
   "metadata": {},
   "source": [
    "## Matrice Repr"
   ]
  },
  {
   "cell_type": "code",
   "execution_count": 28,
   "metadata": {},
   "outputs": [],
   "source": [
    "def MShow(A):\n",
    "    for l in A:\n",
    "        print(l)"
   ]
  },
  {
   "cell_type": "code",
   "execution_count": 29,
   "metadata": {},
   "outputs": [],
   "source": [
    "A = [[1,0,1],[2,3,1],[2,3,1]]"
   ]
  },
  {
   "cell_type": "code",
   "execution_count": 30,
   "metadata": {},
   "outputs": [
    {
     "name": "stdout",
     "output_type": "stream",
     "text": [
      "[1, 0, 1]\n",
      "[2, 3, 1]\n",
      "[2, 3, 1]\n"
     ]
    }
   ],
   "source": [
    "MShow(A)"
   ]
  },
  {
   "cell_type": "markdown",
   "metadata": {},
   "source": [
    "## Matrice Addition"
   ]
  },
  {
   "cell_type": "code",
   "execution_count": 16,
   "metadata": {},
   "outputs": [],
   "source": [
    "def Add(A,B):\n",
    "    nlines = len(A[1])\n",
    "    ncols = len(A)\n",
    "    \n",
    "    return [[A[i][j]+B[i][j] for j in range(ncols)] for i in range(nlines)]\n",
    "    "
   ]
  },
  {
   "cell_type": "code",
   "execution_count": 17,
   "metadata": {},
   "outputs": [],
   "source": [
    "#################################"
   ]
  },
  {
   "cell_type": "code",
   "execution_count": 32,
   "metadata": {},
   "outputs": [],
   "source": [
    "A = [[1,0],[2,3]]\n",
    "B = [[3,1],[1,1]]"
   ]
  },
  {
   "cell_type": "code",
   "execution_count": 35,
   "metadata": {},
   "outputs": [
    {
     "name": "stdout",
     "output_type": "stream",
     "text": [
      "A\n",
      "[1, 0]\n",
      "[2, 3]\n",
      "B\n",
      "[3, 1]\n",
      "[1, 1]\n",
      "A+B\n",
      "[4, 1]\n",
      "[3, 4]\n"
     ]
    }
   ],
   "source": [
    "print('A')\n",
    "MShow(A)\n",
    "print('B')\n",
    "MShow(B)\n",
    "print('A+B')\n",
    "MShow(Add(A,B))"
   ]
  },
  {
   "cell_type": "code",
   "execution_count": 20,
   "metadata": {},
   "outputs": [],
   "source": [
    "#################################"
   ]
  },
  {
   "cell_type": "markdown",
   "metadata": {},
   "source": [
    "## Matrice Multiplication"
   ]
  },
  {
   "cell_type": "code",
   "execution_count": 1,
   "metadata": {},
   "outputs": [],
   "source": [
    "def Mul(A,B):\n",
    "    \n",
    "    C = [[0 for _ in range(a_ncols)] for __ in range(b_nlines)]\n",
    "    \n",
    "    for i in range(a_ncols):\n",
    "        for j in range(b_nlines):\n",
    "            C[i][j] = sum([a*b for a,b in zip(A[i],[k[j] for k in B])])\n",
    "            \n",
    "    return C"
   ]
  },
  {
   "cell_type": "code",
   "execution_count": null,
   "metadata": {},
   "outputs": [],
   "source": [
    "#################################"
   ]
  },
  {
   "cell_type": "code",
   "execution_count": 2,
   "metadata": {},
   "outputs": [],
   "source": [
    "A = [[1,0],[2,3]]\n",
    "B = [[3,1],[1,1]]"
   ]
  },
  {
   "cell_type": "code",
   "execution_count": 36,
   "metadata": {},
   "outputs": [
    {
     "name": "stdout",
     "output_type": "stream",
     "text": [
      "A\n",
      "[1, 0]\n",
      "[2, 3]\n",
      "B\n",
      "[3, 1]\n",
      "[1, 1]\n",
      "AB\n",
      "[3, 1]\n",
      "[9, 5]\n"
     ]
    }
   ],
   "source": [
    "print('A')\n",
    "MShow(A)\n",
    "print('B')\n",
    "MShow(B)\n",
    "print('AB')\n",
    "MShow(Mul(A,B))"
   ]
  },
  {
   "cell_type": "code",
   "execution_count": null,
   "metadata": {},
   "outputs": [],
   "source": [
    "#################################"
   ]
  },
  {
   "cell_type": "markdown",
   "metadata": {},
   "source": [
    "## Transvection Matrice"
   ]
  },
  {
   "cell_type": "code",
   "execution_count": 56,
   "metadata": {},
   "outputs": [],
   "source": [
    "def Mat_Transvection(n,i,j,a):\n",
    "    In = [[int(k==l) for k in range(n)] for l in range(n)]\n",
    "    Eij = [[a*int(k==j-1 and l==i-1) for k in range(n)] for l in range(n)]\n",
    "    return Add(In,Eij)"
   ]
  },
  {
   "cell_type": "code",
   "execution_count": 57,
   "metadata": {},
   "outputs": [],
   "source": [
    "#################################"
   ]
  },
  {
   "cell_type": "code",
   "execution_count": 58,
   "metadata": {},
   "outputs": [
    {
     "name": "stdout",
     "output_type": "stream",
     "text": [
      "[1, 0, 0]\n",
      "[0, 1, 0]\n",
      "[3, 0, 1]\n"
     ]
    }
   ],
   "source": [
    "MShow(Mat_Transvection(3,3,1,3))"
   ]
  },
  {
   "cell_type": "code",
   "execution_count": 24,
   "metadata": {},
   "outputs": [],
   "source": [
    "#################################"
   ]
  },
  {
   "cell_type": "markdown",
   "metadata": {},
   "source": [
    "#### Testing Transvect"
   ]
  },
  {
   "cell_type": "code",
   "execution_count": 54,
   "metadata": {},
   "outputs": [
    {
     "name": "stdout",
     "output_type": "stream",
     "text": [
      "[4, 5, 14]\n",
      "[1, 11, 23]\n",
      "[0, 2, -5]\n"
     ]
    }
   ],
   "source": [
    "A = [[4,5,14],[1,11,23],[0,2,-5]]\n",
    "MShow(A)"
   ]
  },
  {
   "cell_type": "code",
   "execution_count": 59,
   "metadata": {},
   "outputs": [
    {
     "name": "stdout",
     "output_type": "stream",
     "text": [
      "[1, 0, 1]\n",
      "[0, 1, 0]\n",
      "[0, 0, 1]\n"
     ]
    }
   ],
   "source": [
    "T = Mat_Transvection(3,1,3,1)\n",
    "MShow(T)"
   ]
  },
  {
   "cell_type": "markdown",
   "metadata": {},
   "source": [
    "#### Multiplication à gauche"
   ]
  },
  {
   "cell_type": "code",
   "execution_count": 61,
   "metadata": {},
   "outputs": [
    {
     "name": "stdout",
     "output_type": "stream",
     "text": [
      "[4, 7, 9]\n",
      "[1, 11, 23]\n",
      "[0, 2, -5]\n",
      "\n",
      "[4, 5, 14]\n",
      "[1, 11, 23]\n",
      "[0, 2, -5]\n"
     ]
    }
   ],
   "source": [
    "MShow(Mul(T,A))\n",
    "print('')\n",
    "MShow(A)"
   ]
  },
  {
   "cell_type": "markdown",
   "metadata": {},
   "source": [
    "#### Multiplication à droite"
   ]
  },
  {
   "cell_type": "code",
   "execution_count": 62,
   "metadata": {},
   "outputs": [
    {
     "name": "stdout",
     "output_type": "stream",
     "text": [
      "[4, 5, 18]\n",
      "[1, 11, 24]\n",
      "[0, 2, -5]\n",
      "\n",
      "[4, 5, 14]\n",
      "[1, 11, 23]\n",
      "[0, 2, -5]\n"
     ]
    }
   ],
   "source": [
    "MShow(Mul(A,T))\n",
    "print('')\n",
    "MShow(A)"
   ]
  },
  {
   "cell_type": "markdown",
   "metadata": {},
   "source": [
    "#### Commentaires"
   ]
  },
  {
   "cell_type": "raw",
   "metadata": {},
   "source": [
    "Tij*A   <=>  Li <- Li + a*Lj\n",
    "\n",
    "A*Tij   <=>  Cj <- Cj + a*Ci"
   ]
  },
  {
   "cell_type": "code",
   "execution_count": null,
   "metadata": {},
   "outputs": [],
   "source": []
  },
  {
   "cell_type": "markdown",
   "metadata": {},
   "source": [
    "## Permutation Matrice"
   ]
  },
  {
   "cell_type": "code",
   "execution_count": 65,
   "metadata": {},
   "outputs": [],
   "source": [
    "def Mat_Permutation(n,i,j):\n",
    "    In = [[int(k==l) for k in range(n)] for l in range(n)]\n",
    "    In[i-1],In[j-1] = In[j-1],In[i-1] \n",
    "    return In"
   ]
  },
  {
   "cell_type": "code",
   "execution_count": 69,
   "metadata": {},
   "outputs": [],
   "source": [
    "#################################"
   ]
  },
  {
   "cell_type": "code",
   "execution_count": 67,
   "metadata": {},
   "outputs": [
    {
     "name": "stdout",
     "output_type": "stream",
     "text": [
      "[1, 0, 0]\n",
      "[0, 0, 1]\n",
      "[0, 1, 0]\n"
     ]
    }
   ],
   "source": [
    "MShow(Mat_Permutation(3,2,3))"
   ]
  },
  {
   "cell_type": "code",
   "execution_count": 68,
   "metadata": {},
   "outputs": [],
   "source": [
    "#################################"
   ]
  },
  {
   "cell_type": "markdown",
   "metadata": {},
   "source": [
    "#### Testing Permutation"
   ]
  },
  {
   "cell_type": "code",
   "execution_count": 71,
   "metadata": {},
   "outputs": [
    {
     "name": "stdout",
     "output_type": "stream",
     "text": [
      "[4, 5, 14]\n",
      "[1, 11, 23]\n",
      "[0, 2, -5]\n"
     ]
    }
   ],
   "source": [
    "A = [[4,5,14],[1,11,23],[0,2,-5]]\n",
    "MShow(A)"
   ]
  },
  {
   "cell_type": "code",
   "execution_count": 73,
   "metadata": {},
   "outputs": [
    {
     "name": "stdout",
     "output_type": "stream",
     "text": [
      "[0, 0, 1]\n",
      "[0, 1, 0]\n",
      "[1, 0, 0]\n"
     ]
    }
   ],
   "source": [
    "P = Mat_Permutation(3,1,3)\n",
    "MShow(P)"
   ]
  },
  {
   "cell_type": "markdown",
   "metadata": {},
   "source": [
    "#### Multiplication à gauche"
   ]
  },
  {
   "cell_type": "code",
   "execution_count": 74,
   "metadata": {},
   "outputs": [
    {
     "name": "stdout",
     "output_type": "stream",
     "text": [
      "[0, 2, -5]\n",
      "[1, 11, 23]\n",
      "[4, 5, 14]\n",
      "\n",
      "[4, 5, 14]\n",
      "[1, 11, 23]\n",
      "[0, 2, -5]\n"
     ]
    }
   ],
   "source": [
    "MShow(Mul(P,A))\n",
    "print('')\n",
    "MShow(A)"
   ]
  },
  {
   "cell_type": "markdown",
   "metadata": {},
   "source": [
    "#### Multiplication à droite"
   ]
  },
  {
   "cell_type": "code",
   "execution_count": 76,
   "metadata": {},
   "outputs": [
    {
     "name": "stdout",
     "output_type": "stream",
     "text": [
      "[14, 5, 4]\n",
      "[23, 11, 1]\n",
      "[-5, 2, 0]\n",
      "\n",
      "[4, 5, 14]\n",
      "[1, 11, 23]\n",
      "[0, 2, -5]\n"
     ]
    }
   ],
   "source": [
    "MShow(Mul(A,P))\n",
    "print('')\n",
    "MShow(A)"
   ]
  },
  {
   "cell_type": "markdown",
   "metadata": {},
   "source": [
    "#### Commentaires"
   ]
  },
  {
   "cell_type": "raw",
   "metadata": {},
   "source": [
    "Pij*A   <=>  Li <-> Lj\n",
    "\n",
    "A*Pij   <=>  Cj <- Ci"
   ]
  },
  {
   "cell_type": "code",
   "execution_count": null,
   "metadata": {},
   "outputs": [],
   "source": []
  },
  {
   "cell_type": "markdown",
   "metadata": {},
   "source": [
    "## Application"
   ]
  },
  {
   "cell_type": "code",
   "execution_count": 124,
   "metadata": {},
   "outputs": [
    {
     "name": "stdout",
     "output_type": "stream",
     "text": [
      "[1, 1, 1, 1]\n",
      "[1, 1, -1, -1]\n",
      "[1, -1, 1, -1]\n",
      "[1, -1, -1, -1]\n"
     ]
    }
   ],
   "source": [
    "A = [[1,1,1,1],[1,1,-1,-1],[1,-1,1,-1],[1,-1,-1,-1]]\n",
    "MShow(A)"
   ]
  },
  {
   "cell_type": "markdown",
   "metadata": {},
   "source": [
    "#### L1 < L1 + L4"
   ]
  },
  {
   "cell_type": "code",
   "execution_count": 125,
   "metadata": {},
   "outputs": [
    {
     "name": "stdout",
     "output_type": "stream",
     "text": [
      "[2, 0, 0, 0]\n",
      "[1, 1, -1, -1]\n",
      "[1, -1, 1, -1]\n",
      "[1, -1, -1, -1]\n"
     ]
    }
   ],
   "source": [
    "A = Mul(Mat_Transvection(4,1,4,1),A)\n",
    "MShow(A)"
   ]
  },
  {
   "cell_type": "markdown",
   "metadata": {},
   "source": [
    "#### L2 < L2 - L4"
   ]
  },
  {
   "cell_type": "code",
   "execution_count": 126,
   "metadata": {
    "scrolled": true
   },
   "outputs": [
    {
     "name": "stdout",
     "output_type": "stream",
     "text": [
      "[2, 0, 0, 0]\n",
      "[0, 2, 0, 0]\n",
      "[1, -1, 1, -1]\n",
      "[1, -1, -1, -1]\n"
     ]
    }
   ],
   "source": [
    "A = Mul(Mat_Transvection(4,2,4,-1),A)\n",
    "MShow(A)"
   ]
  },
  {
   "cell_type": "markdown",
   "metadata": {},
   "source": [
    "#### L3 < L3 - L4"
   ]
  },
  {
   "cell_type": "code",
   "execution_count": 127,
   "metadata": {},
   "outputs": [
    {
     "name": "stdout",
     "output_type": "stream",
     "text": [
      "[2, 0, 0, 0]\n",
      "[0, 2, 0, 0]\n",
      "[0, 0, 2, 0]\n",
      "[1, -1, -1, -1]\n"
     ]
    }
   ],
   "source": [
    "A = Mul(Mat_Transvection(4,3,4,-1),A)\n",
    "MShow(A)"
   ]
  },
  {
   "cell_type": "markdown",
   "metadata": {},
   "source": [
    "#### L4 < L4 - 1/2*L1\n",
    "#### L4 < L4 + 1/2*L2\n",
    "#### L4 < L4 + 1/2*L3"
   ]
  },
  {
   "cell_type": "code",
   "execution_count": 128,
   "metadata": {},
   "outputs": [
    {
     "name": "stdout",
     "output_type": "stream",
     "text": [
      "[2.0, 0.0, 0.0, 0.0]\n",
      "[0.0, 2.0, 0.0, 0.0]\n",
      "[0.0, 0.0, 2.0, 0.0]\n",
      "[0.0, 0.0, 0.0, -1.0]\n"
     ]
    }
   ],
   "source": [
    "A = Mul(Mat_Transvection(4,4,1,-0.5),A)\n",
    "A = Mul(Mat_Transvection(4,4,2,0.5),A)\n",
    "A = Mul(Mat_Transvection(4,4,3,0.5),A)\n",
    "MShow(A)"
   ]
  },
  {
   "cell_type": "markdown",
   "metadata": {},
   "source": [
    "#### L4 < L4 - 2L4\n",
    "#### L3 < L3 - 0.5L3\n",
    "#### L2 < L2 - 0.5L2\n",
    "#### L1 < L1 - 0.5L1"
   ]
  },
  {
   "cell_type": "code",
   "execution_count": 129,
   "metadata": {},
   "outputs": [
    {
     "name": "stdout",
     "output_type": "stream",
     "text": [
      "[1.0, 0.0, 0.0, 0.0]\n",
      "[0.0, 1.0, 0.0, 0.0]\n",
      "[0.0, 0.0, 1.0, 0.0]\n",
      "[0.0, 0.0, 0.0, 1.0]\n"
     ]
    }
   ],
   "source": [
    "A = Mul(Mat_Transvection(4,4,4,-2),A)\n",
    "A = Mul(Mat_Transvection(4,3,3,-0.5),A)\n",
    "A = Mul(Mat_Transvection(4,2,2,-0.5),A)\n",
    "A = Mul(Mat_Transvection(4,1,1,-0.5),A)\n",
    "MShow(A)"
   ]
  },
  {
   "cell_type": "markdown",
   "metadata": {},
   "source": [
    "### Retrouver L'inverse"
   ]
  },
  {
   "cell_type": "code",
   "execution_count": 130,
   "metadata": {},
   "outputs": [
    {
     "name": "stdout",
     "output_type": "stream",
     "text": [
      "[1, 0, 0, 0]\n",
      "[0, 1, 0, 0]\n",
      "[0, 0, 1, 0]\n",
      "[0, 0, 0, 1]\n"
     ]
    }
   ],
   "source": [
    "B = [[1,0,0,0],[0,1,0,0],[0,0,1,0],[0,0,0,1]]\n",
    "MShow(B)"
   ]
  },
  {
   "cell_type": "code",
   "execution_count": 131,
   "metadata": {},
   "outputs": [
    {
     "name": "stdout",
     "output_type": "stream",
     "text": [
      "[0.5, 0.0, 0.0, 0.5]\n",
      "[0.0, 0.5, 0.0, -0.5]\n",
      "[0.0, 0.0, 0.5, -0.5]\n",
      "[0.5, -0.5, -0.5, 0.5]\n"
     ]
    }
   ],
   "source": [
    "B = Mul(Mat_Transvection(4,1,4,1),B)\n",
    "B = Mul(Mat_Transvection(4,2,4,-1),B)\n",
    "B = Mul(Mat_Transvection(4,3,4,-1),B)\n",
    "B = Mul(Mat_Transvection(4,4,1,-0.5),B)\n",
    "B = Mul(Mat_Transvection(4,4,2,0.5),B)\n",
    "B = Mul(Mat_Transvection(4,4,3,0.5),B)\n",
    "B = Mul(Mat_Transvection(4,4,4,-2),B)\n",
    "B = Mul(Mat_Transvection(4,3,3,-0.5),B)\n",
    "B = Mul(Mat_Transvection(4,2,2,-0.5),B)\n",
    "B = Mul(Mat_Transvection(4,1,1,-0.5),B)\n",
    "MShow(B)"
   ]
  },
  {
   "cell_type": "code",
   "execution_count": 136,
   "metadata": {},
   "outputs": [
    {
     "name": "stdout",
     "output_type": "stream",
     "text": [
      "[1.0, 0.0, 0.0, 0.0]\n",
      "[0.0, 1.0, 0.0, 0.0]\n",
      "[0.0, 0.0, 1.0, 0.0]\n",
      "[0.0, 0.0, 0.0, 1.0]\n",
      "\n",
      "[1.0, 0.0, 0.0, 0.0]\n",
      "[0.0, 1.0, 0.0, 0.0]\n",
      "[0.0, 0.0, 1.0, 0.0]\n",
      "[0.0, 0.0, 0.0, 1.0]\n"
     ]
    }
   ],
   "source": [
    "A = [[1,1,1,1],[1,1,-1,-1],[1,-1,1,-1],[1,-1,-1,-1]]\n",
    "MShow(Mul(A,B))\n",
    "print('')\n",
    "MShow(Mul(B,A))"
   ]
  },
  {
   "cell_type": "code",
   "execution_count": null,
   "metadata": {},
   "outputs": [],
   "source": []
  }
 ],
 "metadata": {
  "kernelspec": {
   "display_name": "Python 2",
   "language": "python",
   "name": "python2"
  },
  "language_info": {
   "codemirror_mode": {
    "name": "ipython",
    "version": 2
   },
   "file_extension": ".py",
   "mimetype": "text/x-python",
   "name": "python",
   "nbconvert_exporter": "python",
   "pygments_lexer": "ipython2",
   "version": "2.7.12"
  }
 },
 "nbformat": 4,
 "nbformat_minor": 2
}
