{
 "cells": [
  {
   "cell_type": "markdown",
   "metadata": {},
   "source": [
    "## Matrice Repr"
   ]
  },
  {
   "cell_type": "code",
   "execution_count": 12,
   "metadata": {},
   "outputs": [],
   "source": [
    "def MShow(A):\n",
    "    for l in A:\n",
    "        print(l)"
   ]
  },
  {
   "cell_type": "markdown",
   "metadata": {},
   "source": [
    "## Calcul Récursif du Déterminant"
   ]
  },
  {
   "cell_type": "code",
   "execution_count": 66,
   "metadata": {},
   "outputs": [],
   "source": [
    "def det(A,n):\n",
    "    if n==1:\n",
    "        return A[0][0]\n",
    "    elif n==2:\n",
    "        return A[0][0]*A[1][1]-A[0][1]*A[1][0]\n",
    "    else:\n",
    "        i=0\n",
    "        Cij = [0 for _ in range(n)]\n",
    "        for j in range(n):\n",
    "            B = [\n",
    "                [A[k][l] for l in range(n) if l != j]\n",
    "                for k in range(n) if k != i\n",
    "            ]\n",
    "            Cij[j] = (-1)**(i+j)*det(B,n-1)\n",
    "        \n",
    "        return sum([A[0][j]*Cij[j] for j in range(n)])"
   ]
  },
  {
   "cell_type": "code",
   "execution_count": 61,
   "metadata": {},
   "outputs": [],
   "source": [
    "###########################"
   ]
  },
  {
   "cell_type": "code",
   "execution_count": 67,
   "metadata": {},
   "outputs": [
    {
     "name": "stdout",
     "output_type": "stream",
     "text": [
      "[1, 1, 1, 1]\n",
      "[1, 1, -1, -1]\n",
      "[1, -1, 1, -1]\n",
      "[1, -1, -1, -1]\n"
     ]
    }
   ],
   "source": [
    "A=[[1,1,1,1],[1,1,-1,-1],[1,-1,1,-1],[1,-1,-1,-1]]\n",
    "MShow(A)"
   ]
  },
  {
   "cell_type": "code",
   "execution_count": 68,
   "metadata": {},
   "outputs": [
    {
     "data": {
      "text/plain": [
       "-8"
      ]
     },
     "execution_count": 68,
     "metadata": {},
     "output_type": "execute_result"
    }
   ],
   "source": [
    "det(A,4)"
   ]
  },
  {
   "cell_type": "code",
   "execution_count": 69,
   "metadata": {},
   "outputs": [
    {
     "name": "stdout",
     "output_type": "stream",
     "text": [
      "[0.5, 0.0, 0.0, 0.5]\n",
      "[0.0, 0.5, 0.0, -0.5]\n",
      "[0.0, 0.0, 0.5, -0.5]\n",
      "[0.5, -0.5, -0.5, 0.5]\n"
     ]
    }
   ],
   "source": [
    "B=[[0.5, 0.0, 0.0, 0.5],[0.0, 0.5, 0.0, -0.5],[0.0, 0.0, 0.5, -0.5],[0.5, -0.5, -0.5, 0.5]]\n",
    "MShow(B)"
   ]
  },
  {
   "cell_type": "code",
   "execution_count": 70,
   "metadata": {},
   "outputs": [
    {
     "data": {
      "text/plain": [
       "-0.125"
      ]
     },
     "execution_count": 70,
     "metadata": {},
     "output_type": "execute_result"
    }
   ],
   "source": [
    "det(B,4)"
   ]
  },
  {
   "cell_type": "code",
   "execution_count": 284,
   "metadata": {},
   "outputs": [],
   "source": [
    "# B étant l'inverse de A (Trouvé dans le Lab précédent),\n",
    "# il vérifie la propriété:\n",
    "# det(A) = 1/det(B)"
   ]
  },
  {
   "cell_type": "code",
   "execution_count": 71,
   "metadata": {},
   "outputs": [],
   "source": [
    "###########################"
   ]
  },
  {
   "cell_type": "markdown",
   "metadata": {},
   "source": [
    "## Tests Temps d'exécution"
   ]
  },
  {
   "cell_type": "code",
   "execution_count": 72,
   "metadata": {},
   "outputs": [],
   "source": [
    "import random\n",
    "def RandMat(d):\n",
    "    return [[random.randint(0,100) for _ in range(d)] for __ in range(d)]"
   ]
  },
  {
   "cell_type": "code",
   "execution_count": 287,
   "metadata": {},
   "outputs": [
    {
     "name": "stdout",
     "output_type": "stream",
     "text": [
      "[13, 85, 73]\n",
      "[94, 99, 14]\n",
      "[31, 54, 71]\n"
     ]
    }
   ],
   "source": [
    "MShow(RandMat(3))"
   ]
  },
  {
   "cell_type": "code",
   "execution_count": 286,
   "metadata": {
    "scrolled": true
   },
   "outputs": [
    {
     "name": "stdout",
     "output_type": "stream",
     "text": [
      "Temps exécution (s): 0. Dimension A: 2\n",
      "Temps exécution (s): 0. Dimension A: 3\n",
      "Temps exécution (s): 0. Dimension A: 4\n",
      "Temps exécution (s): 0. Dimension A: 5\n",
      "Temps exécution (s): 0. Dimension A: 6\n",
      "Temps exécution (s): 0. Dimension A: 7\n",
      "Temps exécution (s): 0. Dimension A: 8\n",
      "Temps exécution (s): 1. Dimension A: 9\n",
      "Temps exécution (s): 11. Dimension A: 10\n",
      "Temps exécution (s): 121. Dimension A: 11\n",
      "Temps exécution (s): 1467. Dimension A: 12\n"
     ]
    }
   ],
   "source": [
    "from time import time\n",
    "for dim in range(2,13):\n",
    "    A = RandMat(dim)\n",
    "    t = time()\n",
    "    det(A,dim)\n",
    "    print(\"Temps exécution (s): \"+str(int(time()-t))+\". Dimension A: \"+str(dim))"
   ]
  },
  {
   "cell_type": "markdown",
   "metadata": {},
   "source": [
    "### Conclusion"
   ]
  },
  {
   "cell_type": "raw",
   "metadata": {},
   "source": [
    "Le temps d'exécution est trop élevé ! \n",
    "La fonction T qui donne le temps d'exécution en fonction de la dimension de la matrice est clairement en exponentielle."
   ]
  },
  {
   "cell_type": "markdown",
   "metadata": {},
   "source": [
    "## Optimisation 1"
   ]
  },
  {
   "cell_type": "raw",
   "metadata": {},
   "source": [
    "Au départ, l'algorithme fonctionnait en choisissant arbitrairement une ligne par rapport à laquelle développer. Suite à cette optimisation, nous allons choisir la ligne ou la colonne qui contient le plus de 0 pour éviter  du calcul inutile :\n",
    "\n",
    "det(M) = sum(Mij*det(m(i,j))  =>  det(M) = sum(Mij*det(m(i,j)) / Mij != 0)    \n",
    "\n",
    "m(i,j) étant la matrices obtenue en suprimant la ligne i et la colonne j."
   ]
  },
  {
   "cell_type": "code",
   "execution_count": 88,
   "metadata": {},
   "outputs": [],
   "source": [
    "def det_opt_1(A,n):\n",
    "    if n==1:\n",
    "        return A[0][0]\n",
    "    elif n==2:\n",
    "        return A[0][0]*A[1][1]-A[0][1]*A[1][0]\n",
    "    elif n <= 8:\n",
    "        # On optimise seulement lorsque la taille de la matrice dépasse 9\n",
    "        return det(A,n)\n",
    "    else:\n",
    "        # Number of Zeros per line of A\n",
    "        lzeros = [l.count(0) for l in A]\n",
    "        # Number of Zeros per column of A\n",
    "        czeros = [[A[i][j] for i in range(n)].count(0) for j in range(n)]\n",
    "        \n",
    "        dev_line = None\n",
    "        dev_col = None\n",
    "        num_zeros = 0\n",
    "        if max(czeros) > max(lzeros):\n",
    "            dev_line = lzeros.index(max(lzeros))\n",
    "            num_zeros = max(lzeros)\n",
    "        else:\n",
    "            dev_col = czeros.index(max(czeros))\n",
    "            num_zeros = max(czeros)\n",
    "        \n",
    "        Cij = [0 for _ in range(n)]\n",
    "        if(dev_line):\n",
    "            # Developpement par rapport à la ligne qui à le plus de 0\n",
    "            for j in range(n):\n",
    "                B = [\n",
    "                    [A[k][l] for l in range(n) if l != j]\n",
    "                    for k in range(n) if k != dev_line\n",
    "                ]\n",
    "                if A[dev_line][j] != 0:\n",
    "                    Cij[j] = (-1)**(i+j)*det_opt_1(B,n-1)\n",
    "                else:\n",
    "                    Cij[j] = 0\n",
    "                \n",
    "            return sum([A[dev_line][j]*Cij[j] for j in range(n)])\n",
    "        else:\n",
    "            # Developpement par rapport à la colonne qui à le plus de 0\n",
    "            for i in range(n):\n",
    "                B = [\n",
    "                    [A[k][l] for l in range(n) if l != dev_col]\n",
    "                    for k in range(n) if k != i\n",
    "                ]\n",
    "                if A[i][dev_col] != 0:\n",
    "                    Cij[j] = (-1)**(i+j)*det_opt_1(B,n-1)\n",
    "                else:\n",
    "                    Cij[j] = 0\n",
    "        \n",
    "            return sum([A[i][dev_col]*Cij[i] for i in range(n)])"
   ]
  },
  {
   "cell_type": "markdown",
   "metadata": {},
   "source": [
    "## Tests Temps d'exécution"
   ]
  },
  {
   "cell_type": "code",
   "execution_count": 86,
   "metadata": {},
   "outputs": [
    {
     "name": "stdout",
     "output_type": "stream",
     "text": [
      "Temps exécution (s): 0. Dimension A: 2\n",
      "Temps exécution (s): 0. Dimension A: 3\n",
      "Temps exécution (s): 0. Dimension A: 4\n",
      "Temps exécution (s): 0. Dimension A: 5\n",
      "Temps exécution (s): 0. Dimension A: 6\n",
      "Temps exécution (s): 0. Dimension A: 7\n",
      "Temps exécution (s): 0. Dimension A: 8\n",
      "Temps exécution (s): 1. Dimension A: 9\n",
      "Temps exécution (s): 15. Dimension A: 10\n",
      "Temps exécution (s): 168. Dimension A: 11\n"
     ]
    }
   ],
   "source": [
    "for dim in range(2,13):\n",
    "    A = RandMat(dim)\n",
    "    t = time()\n",
    "    det_opt_1(A,dim)\n",
    "    print(\"Temps exécution (s): \"+str(int(time()-t))+\". Dimension A: \"+str(dim))"
   ]
  },
  {
   "cell_type": "markdown",
   "metadata": {},
   "source": [
    "### Conclusion"
   ]
  },
  {
   "cell_type": "raw",
   "metadata": {},
   "source": [
    "Le temps d'exécution n'a pas changé !\n",
    "Cette optimisation reste infructueuse car elle dépend du nombre de zeros que contient la matrice, et si elle n'en contient pas, alors on aura un temps d'exécution encore plus important que la fonction non optimisée."
   ]
  },
  {
   "cell_type": "markdown",
   "metadata": {},
   "source": [
    "## Optimisation 2"
   ]
  },
  {
   "cell_type": "raw",
   "metadata": {},
   "source": [
    "Dans cette partie nous allons créer les zeros, grace à la propriété du déterminant det(AB) = det(A)*det(B).\n",
    "\n",
    "La transvection ne change pas le déterminant car det(Tij)=1:\n",
    "    det(Tij*A)=det(A*Tij)=det(A)*det(Tij) = det(A) \n",
    "La permutation multiplie le determinant par -1 car det(Pij)=-1:\n",
    "    det(Pij*A)=det(A*Pij)=det(A)*det(Pij) = -det(A)\n",
    "    \n",
    "Nous allons donc procédér à la permutation et à la transvection pour faire apparaitre le maximum de zéros dans la matrice.\n",
    "Pour celà nous allons transformer notre matrice en matrice triangulaire inférieure.\n",
    "\n",
    "           a  b  c  d                        q  0  0  0\n",
    "           e  f  g  h             =>         r  s  0  0\n",
    "           i  j  k  l                        t  u  v  0\n",
    "           m  n  o  p                        w  x  y  z"
   ]
  },
  {
   "cell_type": "code",
   "execution_count": 104,
   "metadata": {},
   "outputs": [],
   "source": [
    "def Add(A,B):\n",
    "    nlines = len(A)\n",
    "    ncols = len(A[1])\n",
    "    \n",
    "    return [[A[i][j]+B[i][j] for j in range(ncols)] for i in range(nlines)]\n",
    "    "
   ]
  },
  {
   "cell_type": "code",
   "execution_count": 105,
   "metadata": {},
   "outputs": [],
   "source": [
    "def Mul(A,B):\n",
    "    b_nlines = len(B)\n",
    "    a_ncols = len(A[1])\n",
    "    \n",
    "    C = [[0 for _ in range(a_ncols)] for __ in range(b_nlines)]\n",
    "    \n",
    "    for i in range(a_ncols):\n",
    "        for j in range(b_nlines):\n",
    "            C[i][j] = sum([a*b for a,b in zip(A[i],[k[j] for k in B])])\n",
    "            \n",
    "    return C"
   ]
  },
  {
   "cell_type": "code",
   "execution_count": 183,
   "metadata": {},
   "outputs": [],
   "source": [
    "# La fonction mat_round transform les coeffs de la matrice qui sont\n",
    "# très proches de 0 (< 10**-12) en 0 \n",
    "def Mat_Round(M,n):\n",
    "    for i in range(n):\n",
    "        for j in range(n):\n",
    "            if M[i][j] < 10e-12:\n",
    "                M[i][j] = 0\n",
    "    return M"
   ]
  },
  {
   "cell_type": "code",
   "execution_count": 89,
   "metadata": {},
   "outputs": [],
   "source": [
    "def Mat_Transvection(n,i,j,a):\n",
    "    In = [[int(k==l) for k in range(n)] for l in range(n)]\n",
    "    Eij = [[a*int(k==j-1 and l==i-1) for k in range(n)] for l in range(n)]\n",
    "    return Add(In,Eij)"
   ]
  },
  {
   "cell_type": "code",
   "execution_count": 135,
   "metadata": {},
   "outputs": [],
   "source": [
    "def Mat_Permutation(n,i,j):\n",
    "    In = [[int(k==l) for k in range(n)] for l in range(n)]\n",
    "    In[i-1],In[j-1] = In[j-1],In[i-1] \n",
    "    return In"
   ]
  },
  {
   "cell_type": "code",
   "execution_count": 270,
   "metadata": {},
   "outputs": [],
   "source": [
    "# Algorithme triangularisation:\n",
    "\"\"\"\n",
    "Methode du pivot de gauss\n",
    "--------------------------------\n",
    "nb_permutation = 0\n",
    "Pour i de 1 à N-1\n",
    "    Pivot = Choix_Pivot()\n",
    "    Pour j de i+1 à N\n",
    "        Cj <- Cj - (Aij/Pivot)*Ci \n",
    "--------------------------------       \n",
    "Avec    Cj : la colonne j\n",
    "        Aij : l'élément Aij de la matrice\n",
    "--------------------------------  \n",
    "\"\"\"\n",
    "\n",
    "def triangulariser(A,n):\n",
    "    nb_permutation = 0\n",
    "    \n",
    "    A = Mat_Round(A,n)\n",
    "    \n",
    "    for i in range(n-1):\n",
    "        # Choix du pivot\n",
    "        pivot = sorted([abs(A[i][j]) for j in range(i,n)],reverse=True)[0]\n",
    "        if pivot == 0:\n",
    "            continue\n",
    "        index_pivot = [abs(A[i][j]) for j in range(i,n)].index(pivot)+i\n",
    "        pivot = float(A[i][index_pivot])\n",
    "        \n",
    "        # Permutation (mettre le pivot sur la diagonale)\n",
    "        if i+1 != index_pivot+1:\n",
    "            A = Mul(A,Mat_Permutation(n,i+1,index_pivot+1))\n",
    "            nb_permutation += 1\n",
    "        \n",
    "        # Transvection des colonnes\n",
    "        for j in range(i+1,n):\n",
    "            A = Mul(A,Mat_Transvection(n,i+1,j+1,-A[i][j]/pivot))\n",
    "            #A = Mat_Round(A,n)\n",
    "                    \n",
    "    return nb_permutation,A"
   ]
  },
  {
   "cell_type": "code",
   "execution_count": 271,
   "metadata": {},
   "outputs": [],
   "source": [
    "###########################"
   ]
  },
  {
   "cell_type": "code",
   "execution_count": 272,
   "metadata": {},
   "outputs": [
    {
     "name": "stdout",
     "output_type": "stream",
     "text": [
      "[1, 1, 1, 1, 1]\n",
      "[1, 1, -1, -1, 1]\n",
      "[1, -1, 1, -1, 1]\n",
      "[1, -1, -1, -1, 1]\n",
      "[1, -1, -1, -1, -1]\n"
     ]
    }
   ],
   "source": [
    "A=[[1,1,1,1,1],[1,1,-1,-1,1],[1,-1,1,-1,1],[1,-1,-1,-1,1],[1,-1,-1,-1,-1]]\n",
    "MShow(A)"
   ]
  },
  {
   "cell_type": "code",
   "execution_count": 273,
   "metadata": {},
   "outputs": [
    {
     "data": {
      "text/plain": [
       "16"
      ]
     },
     "execution_count": 273,
     "metadata": {},
     "output_type": "execute_result"
    }
   ],
   "source": [
    "det(A,5)"
   ]
  },
  {
   "cell_type": "code",
   "execution_count": 274,
   "metadata": {},
   "outputs": [],
   "source": [
    "n,C = triangulariser(A,len(A))"
   ]
  },
  {
   "cell_type": "code",
   "execution_count": 275,
   "metadata": {},
   "outputs": [
    {
     "name": "stdout",
     "output_type": "stream",
     "text": [
      "[1.0, 0.0, 0.0, 0.0, 0.0]\n",
      "[1.0, -2.0, 0.0, 0.0, 0.0]\n",
      "[1.0, 0.0, -2.0, 0.0, 0.0]\n",
      "[1.0, -2.0, -2.0, 2.0, 0.0]\n",
      "[1.0, -2.0, -2.0, 2.0, -2.0]\n"
     ]
    }
   ],
   "source": [
    "MShow(C)"
   ]
  },
  {
   "cell_type": "code",
   "execution_count": 276,
   "metadata": {},
   "outputs": [
    {
     "data": {
      "text/plain": [
       "-16.0"
      ]
     },
     "execution_count": 276,
     "metadata": {},
     "output_type": "execute_result"
    }
   ],
   "source": [
    "det(C,5)"
   ]
  },
  {
   "cell_type": "code",
   "execution_count": null,
   "metadata": {},
   "outputs": [],
   "source": [
    "###########################"
   ]
  },
  {
   "cell_type": "code",
   "execution_count": 277,
   "metadata": {},
   "outputs": [],
   "source": [
    "def det_opt_2(A,n):\n",
    "    np,C = triangulariser(A,n)\n",
    "    # Une fois triangulaire, le determinant devient tous simplement\n",
    "    # le produit de la diagonale\n",
    "    dtr = 1\n",
    "    for i in range(n):\n",
    "        dtr = dtr*C[i][i]\n",
    "    return dtr*((-1)**np)"
   ]
  },
  {
   "cell_type": "code",
   "execution_count": 278,
   "metadata": {},
   "outputs": [],
   "source": [
    "###########################"
   ]
  },
  {
   "cell_type": "code",
   "execution_count": 279,
   "metadata": {},
   "outputs": [
    {
     "data": {
      "text/plain": [
       "[[1, 1, 1, 1, 1],\n",
       " [1, 1, -1, -1, 1],\n",
       " [1, -1, 1, -1, 1],\n",
       " [1, -1, -1, -1, 1],\n",
       " [1, -1, -1, -1, -1]]"
      ]
     },
     "execution_count": 279,
     "metadata": {},
     "output_type": "execute_result"
    }
   ],
   "source": [
    "A"
   ]
  },
  {
   "cell_type": "code",
   "execution_count": 280,
   "metadata": {},
   "outputs": [
    {
     "data": {
      "text/plain": [
       "16.0"
      ]
     },
     "execution_count": 280,
     "metadata": {},
     "output_type": "execute_result"
    }
   ],
   "source": [
    "det_opt_2(A,len(A))"
   ]
  },
  {
   "cell_type": "code",
   "execution_count": null,
   "metadata": {},
   "outputs": [],
   "source": [
    "###########################"
   ]
  },
  {
   "cell_type": "markdown",
   "metadata": {},
   "source": [
    "## Tests Temps d'exécution"
   ]
  },
  {
   "cell_type": "code",
   "execution_count": 282,
   "metadata": {},
   "outputs": [
    {
     "name": "stdout",
     "output_type": "stream",
     "text": [
      "Temps exécution (s): 0. Dimension A: 2\n",
      "Temps exécution (s): 0. Dimension A: 3\n",
      "Temps exécution (s): 0. Dimension A: 4\n",
      "Temps exécution (s): 0. Dimension A: 5\n",
      "Temps exécution (s): 0. Dimension A: 6\n",
      "Temps exécution (s): 0. Dimension A: 7\n",
      "Temps exécution (s): 0. Dimension A: 8\n",
      "Temps exécution (s): 0. Dimension A: 9\n",
      "Temps exécution (s): 0. Dimension A: 10\n",
      "Temps exécution (s): 0. Dimension A: 11\n",
      "Temps exécution (s): 0. Dimension A: 12\n",
      "Temps exécution (s): 0. Dimension A: 13\n",
      "Temps exécution (s): 0. Dimension A: 14\n",
      "Temps exécution (s): 0. Dimension A: 15\n",
      "Temps exécution (s): 0. Dimension A: 16\n",
      "Temps exécution (s): 0. Dimension A: 17\n",
      "Temps exécution (s): 0. Dimension A: 18\n",
      "Temps exécution (s): 0. Dimension A: 19\n",
      "Temps exécution (s): 0. Dimension A: 20\n",
      "Temps exécution (s): 0. Dimension A: 21\n",
      "Temps exécution (s): 1. Dimension A: 22\n",
      "Temps exécution (s): 1. Dimension A: 23\n",
      "Temps exécution (s): 1. Dimension A: 24\n",
      "Temps exécution (s): 1. Dimension A: 25\n",
      "Temps exécution (s): 2. Dimension A: 26\n",
      "Temps exécution (s): 2. Dimension A: 27\n",
      "Temps exécution (s): 3. Dimension A: 28\n",
      "Temps exécution (s): 3. Dimension A: 29\n",
      "Temps exécution (s): 4. Dimension A: 30\n",
      "Temps exécution (s): 5. Dimension A: 31\n",
      "Temps exécution (s): 6. Dimension A: 32\n",
      "Temps exécution (s): 6. Dimension A: 33\n",
      "Temps exécution (s): 8. Dimension A: 34\n",
      "Temps exécution (s): 9. Dimension A: 35\n",
      "Temps exécution (s): 11. Dimension A: 36\n",
      "Temps exécution (s): 12. Dimension A: 37\n",
      "Temps exécution (s): 14. Dimension A: 38\n",
      "Temps exécution (s): 15. Dimension A: 39\n",
      "Temps exécution (s): 17. Dimension A: 40\n",
      "Temps exécution (s): 20. Dimension A: 41\n",
      "Temps exécution (s): 22. Dimension A: 42\n",
      "Temps exécution (s): 25. Dimension A: 43\n",
      "Temps exécution (s): 28. Dimension A: 44\n",
      "Temps exécution (s): 31. Dimension A: 45\n",
      "Temps exécution (s): 35. Dimension A: 46\n",
      "Temps exécution (s): 39. Dimension A: 47\n",
      "Temps exécution (s): 43. Dimension A: 48\n",
      "Temps exécution (s): 48. Dimension A: 49\n"
     ]
    }
   ],
   "source": [
    "for dim in range(2,50):\n",
    "    A = RandMat(dim)\n",
    "    t = time()\n",
    "    det_opt_2(A,dim)\n",
    "    print(\"Temps exécution (s): \"+str(int(time()-t))+\". Dimension A: \"+str(dim))"
   ]
  },
  {
   "cell_type": "markdown",
   "metadata": {},
   "source": [
    "### Conclusion"
   ]
  },
  {
   "cell_type": "raw",
   "metadata": {},
   "source": [
    "La conclusion se fait toute seule en regardant le gain de temps qu'on vient d'achever.\n",
    "Et on peut encore optimiser .... \n",
    "                                                                Bon Weekend"
   ]
  }
 ],
 "metadata": {
  "kernelspec": {
   "display_name": "Python 2",
   "language": "python",
   "name": "python2"
  },
  "language_info": {
   "codemirror_mode": {
    "name": "ipython",
    "version": 2
   },
   "file_extension": ".py",
   "mimetype": "text/x-python",
   "name": "python",
   "nbconvert_exporter": "python",
   "pygments_lexer": "ipython2",
   "version": "2.7.12"
  }
 },
 "nbformat": 4,
 "nbformat_minor": 2
}
