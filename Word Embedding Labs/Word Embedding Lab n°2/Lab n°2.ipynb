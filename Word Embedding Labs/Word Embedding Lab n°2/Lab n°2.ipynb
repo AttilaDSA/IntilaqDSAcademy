{
 "cells": [
  {
   "cell_type": "markdown",
   "metadata": {},
   "source": [
    "# Lab Word Embedding 2 : Construction d'un model"
   ]
  },
  {
   "cell_type": "markdown",
   "metadata": {},
   "source": [
    "# Constantes"
   ]
  },
  {
   "cell_type": "markdown",
   "metadata": {},
   "source": [
    "## Alphabet et Reverse Alphabet"
   ]
  },
  {
   "cell_type": "code",
   "execution_count": 508,
   "metadata": {},
   "outputs": [],
   "source": [
    "Alphabet = {\n",
    "    str(cr):i for i,cr in enumerate([chr(j) for j in range(ord('a'),ord('z')+1)])\n",
    "}\n",
    "\n",
    "Reverse_Alphabet = {\n",
    "    i:str(cr) for i,cr in enumerate([chr(j) for j in range(ord('a'),ord('z')+1)])\n",
    "}\n",
    "\n",
    "def add_char(c):\n",
    "    Alphabet[c] = len(Alphabet)\n",
    "    Reverse_Alphabet[len(Alphabet)-1] = c\n",
    "    \n",
    "\n",
    "add_char('-')\n",
    "add_char('\\'')\n",
    "add_char('é')\n",
    "add_char('è')\n",
    "add_char('ê')"
   ]
  },
  {
   "cell_type": "code",
   "execution_count": 509,
   "metadata": {},
   "outputs": [
    {
     "name": "stdout",
     "output_type": "stream",
     "text": [
      "{'a': 0, 'b': 1, 'c': 2, 'd': 3, 'e': 4, 'f': 5, 'g': 6, 'h': 7, 'i': 8, 'j': 9, 'k': 10, 'l': 11, 'm': 12, 'n': 13, 'o': 14, 'p': 15, 'q': 16, 'r': 17, 's': 18, 't': 19, 'u': 20, 'v': 21, 'w': 22, 'x': 23, 'y': 24, 'z': 25, '-': 26, \"'\": 27, 'é': 28, 'è': 29, 'ê': 30}\n",
      "\n",
      "{0: 'a', 1: 'b', 2: 'c', 3: 'd', 4: 'e', 5: 'f', 6: 'g', 7: 'h', 8: 'i', 9: 'j', 10: 'k', 11: 'l', 12: 'm', 13: 'n', 14: 'o', 15: 'p', 16: 'q', 17: 'r', 18: 's', 19: 't', 20: 'u', 21: 'v', 22: 'w', 23: 'x', 24: 'y', 25: 'z', 26: '-', 27: \"'\", 28: 'é', 29: 'è', 30: 'ê'}\n"
     ]
    }
   ],
   "source": [
    "print(Alphabet)\n",
    "print()\n",
    "print(Reverse_Alphabet)"
   ]
  },
  {
   "cell_type": "markdown",
   "metadata": {},
   "source": [
    "## Pronoms "
   ]
  },
  {
   "cell_type": "code",
   "execution_count": 500,
   "metadata": {},
   "outputs": [],
   "source": [
    "JE = 0\n",
    "TU = 1\n",
    "IL = 2\n",
    "ELLE = 3\n",
    "NOUS = 4\n",
    "VOUS = 5\n",
    "ILS = 6\n",
    "ELLES = 7"
   ]
  },
  {
   "cell_type": "markdown",
   "metadata": {},
   "source": [
    "## Temps "
   ]
  },
  {
   "cell_type": "code",
   "execution_count": 411,
   "metadata": {},
   "outputs": [],
   "source": [
    "PRESENT = 0\n",
    "PASSE_COMPOSE = 1\n",
    "FUTUR = 3"
   ]
  },
  {
   "cell_type": "markdown",
   "metadata": {},
   "source": [
    "## Axilliares "
   ]
  },
  {
   "cell_type": "code",
   "execution_count": 413,
   "metadata": {},
   "outputs": [],
   "source": [
    "AUXILLIARE_AVOIR = 0\n",
    "AUXILLAIRE_ETRE = 1"
   ]
  },
  {
   "cell_type": "markdown",
   "metadata": {},
   "source": [
    "## Genres et Pluralité"
   ]
  },
  {
   "cell_type": "code",
   "execution_count": 488,
   "metadata": {},
   "outputs": [],
   "source": [
    "MASCULIN = 0\n",
    "FEMININ = 1\n",
    "SS_GENRE = 2\n",
    "\n",
    "SINGULIER = 0\n",
    "PLURIEL = 1\n",
    "SS_PLURALITE= 2"
   ]
  },
  {
   "cell_type": "markdown",
   "metadata": {},
   "source": [
    " "
   ]
  },
  {
   "cell_type": "markdown",
   "metadata": {},
   "source": [
    "# Fonctions Globales"
   ]
  },
  {
   "cell_type": "markdown",
   "metadata": {},
   "source": [
    "## fonctions invariables"
   ]
  },
  {
   "cell_type": "code",
   "execution_count": null,
   "metadata": {},
   "outputs": [],
   "source": [
    "def invariable_accord_au_pluriel(mot,qte):\n",
    "    return mot\n",
    "# Creation d'alias pour abreger le nom de la fonction\n",
    "unchange_n = invariable_accord_au_pluriel\n",
    "\n",
    "def invariable_accord_genre(mot,genre):\n",
    "    return mot\n",
    "unchange_g = invariable_accord_genre\n",
    "\n",
    "def invariable_conjugaison(mot,ordre,qte,genre):\n",
    "    return mot\n",
    "unchange_c = invariable_conjugaison"
   ]
  },
  {
   "cell_type": "markdown",
   "metadata": {},
   "source": [
    "## fonction d'accord selon le genre "
   ]
  },
  {
   "cell_type": "code",
   "execution_count": 532,
   "metadata": {},
   "outputs": [],
   "source": [
    "# Fonction qui accorde les mots au feminin en ajoutant un \"e\" à la fin.\n",
    "def accord_e(mot,genre):\n",
    "    \n",
    "    if genre != mot.genre:\n",
    "        \n",
    "        if genre == FEMININ:\n",
    "            m = mot.concat('e')\n",
    "            m.genre = FEMININ\n",
    "        elif genre == MASCULIN:\n",
    "            m = mot.decat(1)\n",
    "            m.genre = MASCULIN\n",
    "        \n",
    "        return m\n",
    "    \n",
    "    return mot\n",
    "\n",
    "\n",
    "# Fonction qui accorde les mots au feminin en remplaçant \"ier\" en \"ière\".\n",
    "def accord_ier(mot,genre):\n",
    "    \n",
    "    if genre != mot.genre:\n",
    "        \n",
    "        if genre == FEMININ:\n",
    "            m = mot.decat(3).concat('ière')\n",
    "            m.genre = FEMININ\n",
    "            \n",
    "        elif genre == MASCULIN:\n",
    "            m = mot.decat(4).concat('ier')\n",
    "            m.genre = MASCULIN\n",
    "        \n",
    "        return m\n",
    "    \n",
    "    return mot\n"
   ]
  },
  {
   "cell_type": "markdown",
   "metadata": {},
   "source": [
    "## fonction d'accord selon la quantité (singulier, pluriel)"
   ]
  },
  {
   "cell_type": "code",
   "execution_count": 540,
   "metadata": {},
   "outputs": [],
   "source": [
    "# Fonction qui accorde les mots au pluriel en ajoutant un \"s\" à la fin.\n",
    "def accord_s(mot,qte):\n",
    "    m = mot\n",
    "    if qte > 1 and mot.pluralite == SINGULIER:\n",
    "        m = mot.concat('s')\n",
    "        m.pluralite = PLURIEL\n",
    "    elif qte < 1 and mot.pluralite == PLURIEL:\n",
    "        m = mot.decat(1)\n",
    "        m.pluralite = SINGULIER\n",
    "        \n",
    "    return m"
   ]
  },
  {
   "cell_type": "markdown",
   "metadata": {},
   "source": [
    "## fonction de conjugaison (Verbes du 1er groupe)"
   ]
  },
  {
   "cell_type": "code",
   "execution_count": 541,
   "metadata": {},
   "outputs": [],
   "source": [
    "def conjugaison_1er_present(verbe,personne,genre):\n",
    "    if personne in [JE,IL,ELLE]:\n",
    "        return verbe.decat(1)\n",
    "    elif personne == TU:\n",
    "        return verbe.decat(1).concat('s')\n",
    "    elif personne == NOUS:\n",
    "        return verbe.decat(2).concat('ons')\n",
    "    elif personne == VOUS:\n",
    "        return verbe.decat(1).concat('z')\n",
    "    elif personne in [ILS,ELLES]:\n",
    "        return verbe.decat(1).concat('nt')\n",
    "\n",
    "def conjugaison_1er(mot,personne,genre,temps):\n",
    "    if temps == PRESENT:\n",
    "        return conjugaison_1er_present(mot,personne,genre)\n",
    "        "
   ]
  },
  {
   "cell_type": "markdown",
   "metadata": {},
   "source": [
    " "
   ]
  },
  {
   "cell_type": "markdown",
   "metadata": {},
   "source": [
    "# Classes"
   ]
  },
  {
   "cell_type": "markdown",
   "metadata": {},
   "source": [
    "## Classe de Definition de Mot"
   ]
  },
  {
   "cell_type": "code",
   "execution_count": 542,
   "metadata": {},
   "outputs": [],
   "source": [
    "class mot(object):\n",
    "    \"\"\"\n",
    "        Un mot est initialisé a partir d'une chaine de caractère.\n",
    "        Un mot contient:\n",
    "            les attributs suivant:\n",
    "                le genre\n",
    "                la pluralité\n",
    "            les methodes suivantes:\n",
    "            \n",
    "                accorder_g : la fonction qui l'accorde selon le genre\n",
    "                accorder_n : la fonction qui l'accorde selon la pluralité\n",
    "                conjuguer : la fonction qui le conjugue selon la personne à laquelle il est conjugué, le genre et le temps \n",
    "                (dans le cas ou le mot est un verbe)\n",
    "                \n",
    "                concat(chaine) : retourne un mot obtenu en concaténant au mot actuel une chaine de caractère\n",
    "                decat(n) : retourne un mot obtenu en supprimant n caractères du mot actuel\n",
    "                \n",
    "                toTxt : retourne la version textuelle du mot\n",
    "                toVect: retourne la version vectorielle du mot        \n",
    "    \"\"\"\n",
    "    \n",
    "    def __init__(self,txt,genre=SS_GENRE,plr=SINGULIER,accord=None,pluriel=None,conjugaison=None,aux=None):\n",
    "        self.bin = [Alphabet[c.lower()] for c in txt]\n",
    "        self.genre = genre\n",
    "        self.pluralite = plr\n",
    "        self.accord = accord if not accord is None else unchange_g\n",
    "        self.pluriel = pluriel if not pluriel is None else unchange_n\n",
    "        self.conjugaison = conjugaison if not conjugaison is None else unchange_c\n",
    "        self.auxilliare = aux\n",
    "    \n",
    "    def accorder_n(self,plr):\n",
    "        return self.pluriel(self,plr)\n",
    "    \n",
    "    def accorder_g(self,genre):\n",
    "        return self.accord(self,genre)\n",
    "    \n",
    "    def conjuguer(self,personne,genre,temps):\n",
    "        return self.conjugaison(self,personne,genre,temps)\n",
    "    \n",
    "    def concat(self,c):\n",
    "        return mot(self.toTxt()+c)\n",
    "    \n",
    "    def decat(self,nb):\n",
    "        return mot(self.toTxt()[:-nb])\n",
    "    \n",
    "    def toTxt(self):\n",
    "        return ''.join([Reverse_Alphabet[b] for b in self.bin])\n",
    "    \n",
    "    def vect(self):\n",
    "        return self.bin\n",
    "    \n",
    "    def __repr__(self):\n",
    "        return self.toTxt()\n",
    "    \n",
    "    def __str__(self):\n",
    "        return self.toTxt()"
   ]
  },
  {
   "cell_type": "markdown",
   "metadata": {},
   "source": [
    "## Classe D'association Chiffre > Mot"
   ]
  },
  {
   "cell_type": "code",
   "execution_count": 543,
   "metadata": {},
   "outputs": [],
   "source": [
    "class chiffre(object):\n",
    "    \n",
    "    \"\"\"\n",
    "        Cette classe associe un chiffre à un mot \n",
    "    \"\"\"\n",
    "    def __init__(self,i,mt):\n",
    "        self.chiffre = i\n",
    "        self.mot = mt\n",
    "    \n",
    "    def __repr__(self):\n",
    "        return repr(self.mot)\n",
    "    \n",
    "    def accorder_g(self,genre):\n",
    "        return self.mot.accorder_g(genre)\n",
    "    \n",
    "    def accorder_n(self,plr):\n",
    "        return self.mot.accorder_n(plr)"
   ]
  },
  {
   "cell_type": "markdown",
   "metadata": {},
   "source": [
    "### Tests"
   ]
  },
  {
   "cell_type": "code",
   "execution_count": 544,
   "metadata": {},
   "outputs": [
    {
     "name": "stdout",
     "output_type": "stream",
     "text": [
      "policier\n",
      "[15, 14, 11, 8, 2, 8, 4, 17]\n",
      "policière\n",
      "\n",
      "amant\n",
      "[0, 12, 0, 13, 19]\n",
      "amante\n",
      "\n",
      "gelée\n",
      "[6, 4, 11, 28, 4]\n",
      "gelé\n",
      "\n"
     ]
    }
   ],
   "source": [
    "M1 = mot('policier',genre='m',accord=accord_ier)\n",
    "print(M1)\n",
    "print(M1.vect())\n",
    "print(M1.accorder_g(FEMININ))\n",
    "print()\n",
    "\n",
    "M2 = mot('amant',genre='m',accord=accord_e)\n",
    "print(M2)\n",
    "print(M2.vect())\n",
    "print(M2.accorder_g(FEMININ))\n",
    "print()\n",
    "\n",
    "M2 = mot('Gelée',genre='f',accord=accord_e)\n",
    "print(M2)\n",
    "print(M2.vect())\n",
    "print(M2.accorder_g(MASCULIN))\n",
    "print()"
   ]
  },
  {
   "cell_type": "code",
   "execution_count": 545,
   "metadata": {},
   "outputs": [
    {
     "name": "stdout",
     "output_type": "stream",
     "text": [
      "touche\n",
      "touches\n",
      "touchons\n",
      "touchez\n",
      "touchent\n",
      "\n"
     ]
    }
   ],
   "source": [
    "V = mot('Toucher',conjugaison=conjugaison_1er)\n",
    "print(V.conjuguer(JE,'m',PRESENT))\n",
    "print(V.conjuguer(TU,'m',PRESENT))\n",
    "print(V.conjuguer(NOUS,'m',PRESENT))\n",
    "print(V.conjuguer(VOUS,'m',PRESENT))\n",
    "print(V.conjuguer(ILS,'m',PRESENT))\n",
    "print()"
   ]
  },
  {
   "cell_type": "code",
   "execution_count": 546,
   "metadata": {},
   "outputs": [
    {
     "name": "stdout",
     "output_type": "stream",
     "text": [
      "une deux\n"
     ]
    }
   ],
   "source": [
    "Un = chiffre(1,mot('un',genre='m',accord=accord_e))\n",
    "Deux = chiffre(2,mot('deux','m'))\n",
    "print(Un.accorder_g(FEMININ),Deux.accorder_g(MASCULIN))"
   ]
  },
  {
   "cell_type": "markdown",
   "metadata": {},
   "source": [
    " "
   ]
  },
  {
   "cell_type": "markdown",
   "metadata": {},
   "source": [
    "## Classe de Definition d'une expression"
   ]
  },
  {
   "cell_type": "code",
   "execution_count": 547,
   "metadata": {},
   "outputs": [],
   "source": [
    "class expression(object):\n",
    "    \n",
    "    def __init__(self,tpe):\n",
    "        self.type = tpe\n",
    "    "
   ]
  },
  {
   "cell_type": "markdown",
   "metadata": {},
   "source": [
    "## Classe de Definition d'un Nom Commun (sous classe d'une expression)"
   ]
  },
  {
   "cell_type": "code",
   "execution_count": 548,
   "metadata": {},
   "outputs": [],
   "source": [
    "class Nom_Commun(expression):\n",
    "    \n",
    "    \"\"\"\n",
    "        Un nom commun à été modélisé de la manière suivante:\n",
    "            un article: un, deux, ... ou bien le,la,les ...\n",
    "            un nom\n",
    "        Les méthodes sont:\n",
    "            genre() : retourne le genre du nom commun\n",
    "            pluralite() : retourne la pluralite du nom commun\n",
    "            personne() : retourne la personne représentée par le nom commun (JE , TU ,IL ,...)\n",
    "    \"\"\"\n",
    "    \n",
    "    def __init__(self,den,nom):\n",
    "        super(Nom_Commun,self).__init__('NC')\n",
    "        self.denombre = den\n",
    "        self.nom = nom\n",
    "        \n",
    "    def genre(self):\n",
    "        return self.nom.genre\n",
    "    \n",
    "    def pluralite(self):\n",
    "        return IL if self.denombre.chiffre <2 else ILS\n",
    "    \n",
    "    def personne(self):\n",
    "        return IL if self.denombre.chiffre <2 else ILS\n",
    "        \n",
    "    def __repr__(self):\n",
    "        return repr(self.denombre.accorder_g(self.nom.genre))+' '+repr(self.nom.accorder_n(self.denombre.chiffre))\n",
    "        "
   ]
  },
  {
   "cell_type": "markdown",
   "metadata": {},
   "source": [
    "### Tests"
   ]
  },
  {
   "cell_type": "code",
   "execution_count": 551,
   "metadata": {},
   "outputs": [
    {
     "name": "stdout",
     "output_type": "stream",
     "text": [
      "une pomme\n",
      "deux pommes\n"
     ]
    }
   ],
   "source": [
    "Un = chiffre(1,mot('un',genre=MASCULIN,accord=accord_e))\n",
    "Deux = chiffre(2,mot('deux'))\n",
    "Pomme = mot('pomme',FEMININ,pluriel=accord_s)\n",
    "\n",
    "print(Nom_Commun(Un,Pomme))\n",
    "print(Nom_Commun(Deux,Pomme))"
   ]
  },
  {
   "cell_type": "markdown",
   "metadata": {},
   "source": [
    "## Classe de Definition d'une Phrase"
   ]
  },
  {
   "cell_type": "code",
   "execution_count": 449,
   "metadata": {},
   "outputs": [],
   "source": [
    "class Phrase(object):\n",
    "    \n",
    "    def __init__(self,tpe):\n",
    "        self.type = tpe\n"
   ]
  },
  {
   "cell_type": "markdown",
   "metadata": {},
   "source": [
    "## Classe de Definition d'une Affirmation Simple (Sujet + Verbe intransitif)"
   ]
  },
  {
   "cell_type": "code",
   "execution_count": 552,
   "metadata": {},
   "outputs": [],
   "source": [
    "class Affirmation_Simple(Phrase):\n",
    "    \n",
    "    def __init__(self,sujet,verbe,temps=PRESENT):\n",
    "        super(Affirmation_Simple,self).__init__('Aff')\n",
    "        self.sujet = sujet\n",
    "        self.verbe = verbe\n",
    "        self.temps = temps\n",
    "        \n",
    "    def __repr__(self):\n",
    "        return repr(self.sujet)+' '+repr(self.verbe.conjuguer(self.sujet.personne(),self.sujet.genre(),self.temps))"
   ]
  },
  {
   "cell_type": "markdown",
   "metadata": {},
   "source": [
    "### Test"
   ]
  },
  {
   "cell_type": "code",
   "execution_count": 553,
   "metadata": {},
   "outputs": [
    {
     "name": "stdout",
     "output_type": "stream",
     "text": [
      "deux pommes tombent\n",
      "une pomme tombe\n"
     ]
    }
   ],
   "source": [
    "Tomber = mot('Tomber',conjugaison=conjugaison_1er)\n",
    "\n",
    "print(Affirmation_Simple(Nom_Commun(Deux,Pomme),Tomber))\n",
    "print(Affirmation_Simple(Nom_Commun(Un,Pomme),Tomber))"
   ]
  },
  {
   "cell_type": "markdown",
   "metadata": {},
   "source": [
    " "
   ]
  },
  {
   "cell_type": "markdown",
   "metadata": {},
   "source": [
    "# To be continued ...\n",
    "\n",
    "Il reste plein de forme gramaticales à définir mais elles ne sont pas infinies.\n",
    "Mais pour l'instant la cible s'est de pouvoir batir à partir de ce léger model un programme parlant (en combinant à priori avec des algorithmes de Word Embedding)"
   ]
  }
 ],
 "metadata": {
  "kernelspec": {
   "display_name": "Python 3",
   "language": "python",
   "name": "python3"
  },
  "language_info": {
   "codemirror_mode": {
    "name": "ipython",
    "version": 3
   },
   "file_extension": ".py",
   "mimetype": "text/x-python",
   "name": "python",
   "nbconvert_exporter": "python",
   "pygments_lexer": "ipython3",
   "version": "3.6.4"
  }
 },
 "nbformat": 4,
 "nbformat_minor": 2
}
